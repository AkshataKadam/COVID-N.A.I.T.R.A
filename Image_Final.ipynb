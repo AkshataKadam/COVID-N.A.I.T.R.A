{
 "cells": [
  {
   "cell_type": "code",
   "execution_count": 0,
   "metadata": {},
   "outputs": [
    {
     "name": "stderr",
     "output_type": "stream",
     "text": [
      "Using TensorFlow backend.\n",
      "C:\\Users\\PIYUSH\\anaconda3\\lib\\site-packages\\tensorflow\\python\\framework\\dtypes.py:516: FutureWarning: Passing (type, 1) or '1type' as a synonym of type is deprecated; in a future version of numpy, it will be understood as (type, (1,)) / '(1,)type'.\n",
      "  _np_qint8 = np.dtype([(\"qint8\", np.int8, 1)])\n",
      "C:\\Users\\PIYUSH\\anaconda3\\lib\\site-packages\\tensorflow\\python\\framework\\dtypes.py:517: FutureWarning: Passing (type, 1) or '1type' as a synonym of type is deprecated; in a future version of numpy, it will be understood as (type, (1,)) / '(1,)type'.\n",
      "  _np_quint8 = np.dtype([(\"quint8\", np.uint8, 1)])\n",
      "C:\\Users\\PIYUSH\\anaconda3\\lib\\site-packages\\tensorflow\\python\\framework\\dtypes.py:518: FutureWarning: Passing (type, 1) or '1type' as a synonym of type is deprecated; in a future version of numpy, it will be understood as (type, (1,)) / '(1,)type'.\n",
      "  _np_qint16 = np.dtype([(\"qint16\", np.int16, 1)])\n",
      "C:\\Users\\PIYUSH\\anaconda3\\lib\\site-packages\\tensorflow\\python\\framework\\dtypes.py:519: FutureWarning: Passing (type, 1) or '1type' as a synonym of type is deprecated; in a future version of numpy, it will be understood as (type, (1,)) / '(1,)type'.\n",
      "  _np_quint16 = np.dtype([(\"quint16\", np.uint16, 1)])\n",
      "C:\\Users\\PIYUSH\\anaconda3\\lib\\site-packages\\tensorflow\\python\\framework\\dtypes.py:520: FutureWarning: Passing (type, 1) or '1type' as a synonym of type is deprecated; in a future version of numpy, it will be understood as (type, (1,)) / '(1,)type'.\n",
      "  _np_qint32 = np.dtype([(\"qint32\", np.int32, 1)])\n",
      "C:\\Users\\PIYUSH\\anaconda3\\lib\\site-packages\\tensorflow\\python\\framework\\dtypes.py:525: FutureWarning: Passing (type, 1) or '1type' as a synonym of type is deprecated; in a future version of numpy, it will be understood as (type, (1,)) / '(1,)type'.\n",
      "  np_resource = np.dtype([(\"resource\", np.ubyte, 1)])\n",
      "C:\\Users\\PIYUSH\\anaconda3\\lib\\site-packages\\tensorboard\\compat\\tensorflow_stub\\dtypes.py:541: FutureWarning: Passing (type, 1) or '1type' as a synonym of type is deprecated; in a future version of numpy, it will be understood as (type, (1,)) / '(1,)type'.\n",
      "  _np_qint8 = np.dtype([(\"qint8\", np.int8, 1)])\n",
      "C:\\Users\\PIYUSH\\anaconda3\\lib\\site-packages\\tensorboard\\compat\\tensorflow_stub\\dtypes.py:542: FutureWarning: Passing (type, 1) or '1type' as a synonym of type is deprecated; in a future version of numpy, it will be understood as (type, (1,)) / '(1,)type'.\n",
      "  _np_quint8 = np.dtype([(\"quint8\", np.uint8, 1)])\n",
      "C:\\Users\\PIYUSH\\anaconda3\\lib\\site-packages\\tensorboard\\compat\\tensorflow_stub\\dtypes.py:543: FutureWarning: Passing (type, 1) or '1type' as a synonym of type is deprecated; in a future version of numpy, it will be understood as (type, (1,)) / '(1,)type'.\n",
      "  _np_qint16 = np.dtype([(\"qint16\", np.int16, 1)])\n",
      "C:\\Users\\PIYUSH\\anaconda3\\lib\\site-packages\\tensorboard\\compat\\tensorflow_stub\\dtypes.py:544: FutureWarning: Passing (type, 1) or '1type' as a synonym of type is deprecated; in a future version of numpy, it will be understood as (type, (1,)) / '(1,)type'.\n",
      "  _np_quint16 = np.dtype([(\"quint16\", np.uint16, 1)])\n",
      "C:\\Users\\PIYUSH\\anaconda3\\lib\\site-packages\\tensorboard\\compat\\tensorflow_stub\\dtypes.py:545: FutureWarning: Passing (type, 1) or '1type' as a synonym of type is deprecated; in a future version of numpy, it will be understood as (type, (1,)) / '(1,)type'.\n",
      "  _np_qint32 = np.dtype([(\"qint32\", np.int32, 1)])\n",
      "C:\\Users\\PIYUSH\\anaconda3\\lib\\site-packages\\tensorboard\\compat\\tensorflow_stub\\dtypes.py:550: FutureWarning: Passing (type, 1) or '1type' as a synonym of type is deprecated; in a future version of numpy, it will be understood as (type, (1,)) / '(1,)type'.\n",
      "  np_resource = np.dtype([(\"resource\", np.ubyte, 1)])\n"
     ]
    },
    {
     "name": "stdout",
     "output_type": "stream",
     "text": [
      " * Serving Flask app \"__main__\" (lazy loading)\n",
      " * Environment: production\n",
      "   WARNING: This is a development server. Do not use it in a production deployment.\n",
      "   Use a production WSGI server instead.\n",
      " * Debug mode: off\n"
     ]
    },
    {
     "name": "stderr",
     "output_type": "stream",
     "text": [
      " * Running on http://127.0.0.1:5000/ (Press CTRL+C to quit)\n",
      "127.0.0.1 - - [30/Jun/2020 17:42:27] \"\u001b[37mGET /covidmap HTTP/1.1\u001b[0m\" 200 -\n"
     ]
    },
    {
     "name": "stdout",
     "output_type": "stream",
     "text": [
      "Done!\n"
     ]
    },
    {
     "name": "stderr",
     "output_type": "stream",
     "text": [
      "127.0.0.1 - - [30/Jun/2020 17:42:34] \"\u001b[33mGET /favicon.ico HTTP/1.1\u001b[0m\" 404 -\n",
      "ERROR:root:Internal Python error in the inspect module.\n",
      "Below is the traceback from this internal error.\n",
      "\n"
     ]
    },
    {
     "name": "stdout",
     "output_type": "stream",
     "text": [
      "Traceback (most recent call last):\n",
      "  File \"C:\\Users\\PIYUSH\\anaconda3\\lib\\site-packages\\IPython\\core\\interactiveshell.py\", line 2886, in _run_cell\n",
      "    return runner(coro)\n",
      "  File \"C:\\Users\\PIYUSH\\anaconda3\\lib\\site-packages\\IPython\\core\\async_helpers.py\", line 68, in _pseudo_sync_runner\n",
      "    coro.send(None)\n",
      "  File \"C:\\Users\\PIYUSH\\anaconda3\\lib\\site-packages\\IPython\\core\\interactiveshell.py\", line 3066, in run_cell_async\n",
      "    self.last_execution_result = result\n",
      "  File \"C:\\Users\\PIYUSH\\anaconda3\\lib\\site-packages\\traitlets\\traitlets.py\", line 585, in __set__\n",
      "    self.set(obj, value)\n",
      "  File \"C:\\Users\\PIYUSH\\anaconda3\\lib\\site-packages\\traitlets\\traitlets.py\", line 574, in set\n",
      "    obj._notify_trait(self.name, old_value, new_value)\n",
      "  File \"C:\\Users\\PIYUSH\\anaconda3\\lib\\site-packages\\traitlets\\traitlets.py\", line 1139, in _notify_trait\n",
      "    type='change',\n",
      "  File \"C:\\Users\\PIYUSH\\anaconda3\\lib\\site-packages\\traitlets\\traitlets.py\", line 1146, in notify_change\n",
      "    name, type = change.name, change.type\n",
      "  File \"C:\\Users\\PIYUSH\\anaconda3\\lib\\site-packages\\traitlets\\utils\\bunch.py\", line 12, in __getattr__\n",
      "    try:\n",
      "KeyboardInterrupt\n",
      "\n",
      "During handling of the above exception, another exception occurred:\n",
      "\n",
      "Traceback (most recent call last):\n",
      "  File \"C:\\Users\\PIYUSH\\anaconda3\\lib\\site-packages\\IPython\\core\\interactiveshell.py\", line 2044, in showtraceback\n",
      "    stb = value._render_traceback_()\n",
      "AttributeError: 'KeyboardInterrupt' object has no attribute '_render_traceback_'\n",
      "\n",
      "During handling of the above exception, another exception occurred:\n",
      "\n",
      "Traceback (most recent call last):\n",
      "  File \"C:\\Users\\PIYUSH\\anaconda3\\lib\\site-packages\\IPython\\core\\ultratb.py\", line 1151, in get_records\n",
      "    return _fixed_getinnerframes(etb, number_of_lines_of_context, tb_offset)\n",
      "  File \"C:\\Users\\PIYUSH\\anaconda3\\lib\\site-packages\\IPython\\core\\ultratb.py\", line 319, in wrapped\n",
      "    return f(*args, **kwargs)\n",
      "  File \"C:\\Users\\PIYUSH\\anaconda3\\lib\\site-packages\\IPython\\core\\ultratb.py\", line 353, in _fixed_getinnerframes\n",
      "    records = fix_frame_records_filenames(inspect.getinnerframes(etb, context))\n",
      "  File \"C:\\Users\\PIYUSH\\anaconda3\\lib\\inspect.py\", line 1502, in getinnerframes\n",
      "    frameinfo = (tb.tb_frame,) + getframeinfo(tb, context)\n",
      "  File \"C:\\Users\\PIYUSH\\anaconda3\\lib\\inspect.py\", line 1464, in getframeinfo\n",
      "    lines, lnum = findsource(frame)\n",
      "  File \"C:\\Users\\PIYUSH\\anaconda3\\lib\\site-packages\\IPython\\core\\ultratb.py\", line 185, in findsource\n",
      "    lines = linecache.getlines(file, globals_dict)\n",
      "  File \"C:\\Users\\PIYUSH\\anaconda3\\lib\\linecache.py\", line 47, in getlines\n",
      "    return updatecache(filename, module_globals)\n",
      "  File \"C:\\Users\\PIYUSH\\anaconda3\\lib\\linecache.py\", line 136, in updatecache\n",
      "    with tokenize.open(fullname) as fp:\n",
      "  File \"C:\\Users\\PIYUSH\\anaconda3\\lib\\tokenize.py\", line 449, in open\n",
      "    encoding, lines = detect_encoding(buffer.readline)\n",
      "  File \"C:\\Users\\PIYUSH\\anaconda3\\lib\\tokenize.py\", line 418, in detect_encoding\n",
      "    first = read_or_stop()\n",
      "  File \"C:\\Users\\PIYUSH\\anaconda3\\lib\\tokenize.py\", line 376, in read_or_stop\n",
      "    return readline()\n",
      "KeyboardInterrupt\n"
     ]
    },
    {
     "ename": "KeyboardInterrupt",
     "evalue": "",
     "output_type": "error",
     "traceback": [
      "\u001b[1;31m---------------------------------------------------------------------------\u001b[0m"
     ]
    }
   ],
   "source": [
    "from flask import Flask,request, render_template,jsonify\n",
    "from flask_mail import Mail, Message\n",
    "from imageai.Detection import ObjectDetection\n",
    "from PIL import Image as pil\n",
    "from exif import Image as es\n",
    "import os\n",
    "import requests\n",
    "import re\n",
    "import time\n",
    "from openpyxl import Workbook,load_workbook\n",
    "import requests\n",
    "import shutil\n",
    "import folium\n",
    "from folium import plugins\n",
    "import pandas as pd\n",
    "import matplotlib.pyplot as plt\n",
    "import seaborn as sns\n",
    "from IPython.display import display\n",
    "import math\n",
    "import numpy as np\n",
    "import scipy.spatial as spatial\n",
    "from folium.plugins import MarkerCluster\n",
    "\n",
    "app = Flask(__name__)\n",
    "mail=Mail(app)\n",
    "\n",
    "app.config['MAIL_SERVER']='smtp.gmail.com'\n",
    "app.config['MAIL_PORT'] = 465\n",
    "app.config['MAIL_USERNAME'] = 'beprojectaissms@gmail.com'\n",
    "app.config['MAIL_PASSWORD'] = 'Goodproject@123'\n",
    "app.config['MAIL_USE_TLS'] = False\n",
    "app.config['MAIL_USE_SSL'] = True\n",
    "mail = Mail(app)\n",
    "\n",
    "APP_ROOT = os.getcwd()\n",
    "@app.route(\"/\")\n",
    "def index():\n",
    "    return render_template(\"upload.html\")\n",
    "\n",
    "\n",
    "@app.route(\"/covidmap\",methods=['GET'])\n",
    "def covidmap():\n",
    "    raw_data = pd.read_excel(r'C:\\Users\\PIYUSH\\New folder\\zone_data.xlsx')\n",
    "    ds = raw_data\n",
    "    m = folium.Map(location=[18.5195700, 73.8553500],zoom_start = 14)\n",
    "    mc = MarkerCluster()\n",
    "    for row in raw_data.itertuples():\n",
    "        if row.patients >= 10:\n",
    "            mc.add_child(folium.Circle(location=[row.latitude,  row.longitude],popup=row.zone+\" No.of patients:\"+str(row.patients),radius =200,fill_color=\"#9A0C0C\",line_color='#9A0C0C',fill_opacity=0.7,fill=True))\n",
    "        elif row.patients < 10 and row.patients >= 5:\n",
    "            mc.add_child(folium.Circle(location=[row.latitude,  row.longitude],popup=row.zone+\" No.of patients:\"+str(row.patients),radius =200,fill_color=\"#DE3737\",line_color='#DE3737',fill_opacity=0.7,fill=True))\n",
    "        else:\n",
    "            mc.add_child(folium.Circle(location=[row.latitude,  row.longitude],popup=row.zone+\" No.of patients:\"+str(row.patients),radius =200,fill_color=\"#FDBEBE\",line_color='#FDBEBE',fill_opacity=0.7,fill=True))\n",
    "   \n",
    "    m.add_child(mc)\n",
    "    m.save('patients.html')\n",
    "    print(\"Done!\")\n",
    "    source = \"C:/Users/PIYUSH/New folder/patients.html\"\n",
    "    dest = \"C:/Users/PIYUSH/New folder/templates/patients.html\"\n",
    "    shutil.move(source,dest)\n",
    "    \n",
    "    return render_template(\"patients.html\")\n",
    "\n",
    "\n",
    "\n",
    "\n",
    "\n",
    "@app.route(\"/count\",methods=['GET'])\n",
    "def tracker():\n",
    "    \n",
    "    def dist_to_arclength(chord_length):\n",
    "        central_angle = 2*np.arcsin(chord_length/(2.0*R)) \n",
    "        arclength = R*central_angle\n",
    "        return arclength\n",
    "\n",
    "    co_ordinates = request.get_json()\n",
    "    lat2 = float(request.args.get('lat'))\n",
    "    lon2 = float(request.args.get('lng'))\n",
    "    file = 'zone_data.xlsx'\n",
    "    z_data = pd.read_excel(file,sheet_name='Sheet1')\n",
    "    R=6371\n",
    "    data = z_data\n",
    "    data=data.drop(columns=['zone','patients','Sr No'])\n",
    "    \n",
    "    phi = np.deg2rad(data['latitude'])\n",
    "    theta = np.deg2rad(data['longitude'])\n",
    "    \n",
    "    data['x'] = R * np.cos(phi) * np.cos(theta)\n",
    "    data['y'] = R * np.cos(phi) * np.sin(theta)\n",
    "    data['z'] = R * np.sin(phi)\n",
    "    \n",
    "    data=data.drop(columns=['latitude','longitude'])\n",
    "    \n",
    "    ph = np.deg2rad(lat2)\n",
    "    th = np.deg2rad(lon2)\n",
    "    \n",
    "    x=R * np.cos(ph) * np.cos(th)\n",
    "    y=R * np.cos(ph) * np.sin(th)\n",
    "    z=R * np.sin(ph)\n",
    "    \n",
    "    array = []\n",
    "    array.append(x)\n",
    "    array.append(y)\n",
    "    array.append(z)\n",
    "    \n",
    "    np_array=np.asarray(array)\n",
    "    reshaped_array = np_array.reshape(1,-1)\n",
    "    \n",
    "    tree = spatial.KDTree(data[['x', 'y','z']])\n",
    "    distance, index = tree.query(reshaped_array,k=1)\n",
    "    \n",
    "    dist =dist_to_arclength(distance)\n",
    "    \n",
    "    dist = round(dist[0],2)\n",
    "    \n",
    "    nearest_zone =z_data.loc[index[0],\"zone\"]\n",
    "    \n",
    "\n",
    "    \n",
    "    return jsonify(containment_zone = nearest_zone , distance=dist)\n",
    "    \n",
    "    \n",
    "    \n",
    "\n",
    "@app.route(\"/image\", methods=['POST'])\n",
    "def upload():\n",
    "    target = os.path.join(APP_ROOT, 'files')\n",
    "    print(target)\n",
    "\n",
    "    if not os.path.isdir(target):\n",
    "        os.mkdir(target)\n",
    "\n",
    "    for file in request.files.getlist(\"image\"):\n",
    "        print(file)\n",
    "        my_image = es(file)\n",
    "        number = request.form['mo']\n",
    "        nature = request.form['nature']\n",
    "        \n",
    "        long = (float(my_image.gps_longitude[0]) + float(my_image.gps_longitude[1])/60 + float(my_image.gps_longitude[2])/(60*60)) * (-1 if my_image.gps_longitude_ref in ['W', 'S'] else 1)\n",
    "        lat = (float(my_image.gps_latitude[0]) + float(my_image.gps_latitude[1])/60 + float(my_image.gps_latitude[2])/(60*60)) * (-1 if my_image.gps_latitude_ref in ['W', 'S'] else 1)\n",
    "        \n",
    "        print(\"Latitude = \"+ str(lat))\n",
    "        print(\"Longitude = \"+ str(long))\n",
    "        time = my_image.datetime.split()[1]\n",
    "        date = my_image.datetime.split()[0]\n",
    "        print(date)\n",
    "        print(time)\n",
    "        print(number)\n",
    "        image_name = \"img-\"+str(number)+\".jpg\"\n",
    "        \n",
    "        location_request = requests.get(\"https://revgeocode.search.hereapi.com/v1/revgeocode?at={lat},{log}&apikey=hVlbuiVbXyZymQt5-BsSt1wmHpHiDtarbG5njDu_okQ\".format(lat=lat,log=long))\n",
    "        location_json = location_request.json()\n",
    "        postCode = location_json['items'][0]['address']['postalCode']\n",
    "        address = location_json['items'][0]['address']['label']\n",
    "        print(address)\n",
    "        print(postCode)\n",
    "        \n",
    "        \n",
    "        detector = ObjectDetection()\n",
    "        detector.setModelTypeAsRetinaNet()\n",
    "        detector.setModelPath( os.path.join(APP_ROOT , \"retinanet.h5\"))\n",
    "        detector.loadModel()\n",
    "        detections = detector.detectObjectsFromImage(input_image=file, output_image_path=os.path.join(APP_ROOT , \"imagenew.jpg\"), minimum_percentage_probability=30)\n",
    "        count=0\n",
    "        for i in range(len(detections)):\n",
    "            object = detections[i]['name']\n",
    "            if object == 'person':\n",
    "                count = count+1\n",
    "        print(count)\n",
    "        \n",
    "\n",
    "        path = target+\"\\\\\"+str(postCode)\n",
    "        if not os.path.isdir(path):\n",
    "            os.mkdir(path)\n",
    "            print(path)\n",
    "        \n",
    "            \n",
    "        save_image = pil.open(file)\n",
    "        save_image.load()\n",
    "        save_image = save_image.save(\"temp.jpg\")\n",
    "        \n",
    "        msg = Message('N.A.I.T.R.A Complaint', sender = 'beprojectaissms@gmail.com', recipients = ['tejas0898@gmail.com'])\n",
    "        msg.html = \"<b>latitude , longitude : </b>\"+str(lat) +\" , \"+str(long)+\"<br>\"+\"<b>time : </b>\"+time+\"<br>\"+\"<b>address : </b>\"+address+\"<br>\"+\"<b>pin code : </b>\"+str(postCode)+\"<br>\"+\"<b>nature :</b>\"+nature+\"<br>\"\n",
    "        with app.open_resource(\"temp.jpg\") as fp:\n",
    "            msg.attach(\"temp.jpg\", \"image/jpg\", fp.read())\n",
    "        mail.send(msg)\n",
    "\n",
    "        wb=Workbook()\n",
    "        filepath=\"C:/Users/PIYUSH/New folder/image_data.xlsx\"\n",
    "        wb = load_workbook(filepath)\n",
    "        ws = wb.active\n",
    "        ws.append([image_name,number,address,postCode,date,time])\n",
    "        wb.save(filepath)\n",
    "\n",
    "    return render_template(\"complete.html\")\n",
    "\n",
    "if __name__ == \"__main__\":\n",
    "    app.run()\n"
   ]
  },
  {
   "cell_type": "code",
   "execution_count": null,
   "metadata": {},
   "outputs": [],
   "source": []
  },
  {
   "cell_type": "code",
   "execution_count": 8,
   "metadata": {},
   "outputs": [],
   "source": [
    "\n"
   ]
  },
  {
   "cell_type": "code",
   "execution_count": null,
   "metadata": {},
   "outputs": [],
   "source": []
  },
  {
   "cell_type": "code",
   "execution_count": 3,
   "metadata": {},
   "outputs": [
    {
     "name": "stdout",
     "output_type": "stream",
     "text": [
      "C:\\Users\\PIYUSH\\New folder\\files\n"
     ]
    },
    {
     "data": {
      "text/plain": [
       "'C:\\\\Users\\\\PIYUSH\\\\New folder\\\\files'"
      ]
     },
     "execution_count": 3,
     "metadata": {},
     "output_type": "execute_result"
    }
   ],
   "source": []
  },
  {
   "cell_type": "code",
   "execution_count": 38,
   "metadata": {},
   "outputs": [
    {
     "name": "stdout",
     "output_type": "stream",
     "text": [
      "C:\\Users\\PIYUSH\\New folder\\files\n"
     ]
    }
   ],
   "source": [
    "\n"
   ]
  },
  {
   "cell_type": "code",
   "execution_count": 51,
   "metadata": {},
   "outputs": [],
   "source": []
  },
  {
   "cell_type": "code",
   "execution_count": 52,
   "metadata": {},
   "outputs": [
    {
     "name": "stdout",
     "output_type": "stream",
     "text": [
      "C:\\Users\\PIYUSH\\New folder\\files\\411016\n"
     ]
    }
   ],
   "source": [
    "\n"
   ]
  },
  {
   "cell_type": "code",
   "execution_count": 50,
   "metadata": {},
   "outputs": [
    {
     "data": {
      "text/plain": [
       "'C:\\\\Users\\\\PIYUSH\\\\New folder\\\\files'"
      ]
     },
     "execution_count": 50,
     "metadata": {},
     "output_type": "execute_result"
    }
   ],
   "source": []
  },
  {
   "cell_type": "code",
   "execution_count": null,
   "metadata": {},
   "outputs": [],
   "source": []
  },
  {
   "cell_type": "code",
   "execution_count": null,
   "metadata": {},
   "outputs": [],
   "source": []
  }
 ],
 "metadata": {
  "kernelspec": {
   "display_name": "Python 3",
   "language": "python",
   "name": "python3"
  }
 },
 "nbformat": 4,
 "nbformat_minor": 4
}
